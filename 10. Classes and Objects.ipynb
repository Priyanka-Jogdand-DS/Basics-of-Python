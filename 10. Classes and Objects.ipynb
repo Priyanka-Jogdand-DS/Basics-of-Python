{
 "cells": [
  {
   "cell_type": "code",
   "execution_count": 20,
   "metadata": {},
   "outputs": [],
   "source": [
    "def fun1():\n",
    "    \n",
    "    pass"
   ]
  },
  {
   "cell_type": "code",
   "execution_count": 21,
   "metadata": {},
   "outputs": [],
   "source": [
    "class car:\n",
    "    \n",
    "    pass"
   ]
  },
  {
   "cell_type": "code",
   "execution_count": 22,
   "metadata": {},
   "outputs": [],
   "source": [
    "#xyz = car()\n",
    "audiq7 = car()"
   ]
  },
  {
   "cell_type": "code",
   "execution_count": 23,
   "metadata": {},
   "outputs": [],
   "source": [
    "a =10\n",
    "milage=10"
   ]
  },
  {
   "cell_type": "code",
   "execution_count": 24,
   "metadata": {},
   "outputs": [],
   "source": [
    "audiq7.milage=30\n",
    "audiq7.year=2021\n",
    "audiq7.make=345\n",
    "audiq7.model=\"khjjk\""
   ]
  },
  {
   "cell_type": "code",
   "execution_count": 25,
   "metadata": {},
   "outputs": [
    {
     "data": {
      "text/plain": [
       "30"
      ]
     },
     "execution_count": 25,
     "metadata": {},
     "output_type": "execute_result"
    }
   ],
   "source": [
    "audiq7.milage"
   ]
  },
  {
   "cell_type": "code",
   "execution_count": 26,
   "metadata": {},
   "outputs": [
    {
     "data": {
      "text/plain": [
       "2021"
      ]
     },
     "execution_count": 26,
     "metadata": {},
     "output_type": "execute_result"
    }
   ],
   "source": [
    "audiq7.year"
   ]
  },
  {
   "cell_type": "code",
   "execution_count": 27,
   "metadata": {},
   "outputs": [
    {
     "data": {
      "text/plain": [
       "345"
      ]
     },
     "execution_count": 27,
     "metadata": {},
     "output_type": "execute_result"
    }
   ],
   "source": [
    "audiq7.make"
   ]
  },
  {
   "cell_type": "code",
   "execution_count": 28,
   "metadata": {},
   "outputs": [
    {
     "data": {
      "text/plain": [
       "'khjjk'"
      ]
     },
     "execution_count": 28,
     "metadata": {},
     "output_type": "execute_result"
    }
   ],
   "source": [
    "audiq7.model"
   ]
  },
  {
   "cell_type": "code",
   "execution_count": 29,
   "metadata": {},
   "outputs": [
    {
     "data": {
      "text/plain": [
       "int"
      ]
     },
     "execution_count": 29,
     "metadata": {},
     "output_type": "execute_result"
    }
   ],
   "source": [
    "type(audiq7.milage)"
   ]
  },
  {
   "cell_type": "code",
   "execution_count": 30,
   "metadata": {},
   "outputs": [
    {
     "data": {
      "text/plain": [
       "str"
      ]
     },
     "execution_count": 30,
     "metadata": {},
     "output_type": "execute_result"
    }
   ],
   "source": [
    "type(audiq7.model)"
   ]
  },
  {
   "cell_type": "code",
   "execution_count": 31,
   "metadata": {},
   "outputs": [],
   "source": [
    "nano = car()"
   ]
  },
  {
   "cell_type": "code",
   "execution_count": 32,
   "metadata": {},
   "outputs": [],
   "source": [
    "nano.milage=20\n",
    "nano.year=2021\n",
    "nano.make=345\n",
    "nano.model=\"khjjk\"\n",
    "nano.engineno = 32545875"
   ]
  },
  {
   "cell_type": "code",
   "execution_count": 33,
   "metadata": {},
   "outputs": [
    {
     "name": "stdout",
     "output_type": "stream",
     "text": [
      "20 30\n"
     ]
    }
   ],
   "source": [
    "print(nano.milage, audiq7.milage)"
   ]
  },
  {
   "cell_type": "code",
   "execution_count": 34,
   "metadata": {},
   "outputs": [],
   "source": [
    "# self is not a keyword. it is used as a pointer to itself or class.\n",
    "# __init__ is function or data provider to the classes\n",
    "class car:\n",
    "    def __init__(self, milage, year, make, model):  \n",
    "        self.milage = milage  # self.milage -> class variable\n",
    "        self.year = year        # self -> it is pointing to class itself\n",
    "        self.make = make\n",
    "        self.model = model\n",
    "    "
   ]
  },
  {
   "cell_type": "code",
   "execution_count": 35,
   "metadata": {},
   "outputs": [
    {
     "ename": "TypeError",
     "evalue": "__init__() missing 4 required positional arguments: 'milage', 'year', 'make', and 'model'",
     "output_type": "error",
     "traceback": [
      "\u001b[1;31m---------------------------------------------------------------------------\u001b[0m",
      "\u001b[1;31mTypeError\u001b[0m                                 Traceback (most recent call last)",
      "\u001b[1;32m<ipython-input-35-16870c6ee572>\u001b[0m in \u001b[0;36m<module>\u001b[1;34m\u001b[0m\n\u001b[1;32m----> 1\u001b[1;33m \u001b[0mnano1\u001b[0m \u001b[1;33m=\u001b[0m \u001b[0mcar\u001b[0m\u001b[1;33m(\u001b[0m\u001b[1;33m)\u001b[0m\u001b[1;33m\u001b[0m\u001b[1;33m\u001b[0m\u001b[0m\n\u001b[0m",
      "\u001b[1;31mTypeError\u001b[0m: __init__() missing 4 required positional arguments: 'milage', 'year', 'make', and 'model'"
     ]
    }
   ],
   "source": [
    "nano1 = car()"
   ]
  },
  {
   "cell_type": "code",
   "execution_count": 36,
   "metadata": {},
   "outputs": [],
   "source": [
    "nano1 = car(20,2021,1111,\"vhu\")\n",
    "audiq7 = car(22,2020,545,\"sdff\")"
   ]
  },
  {
   "cell_type": "code",
   "execution_count": 37,
   "metadata": {},
   "outputs": [
    {
     "data": {
      "text/plain": [
       "1111"
      ]
     },
     "execution_count": 37,
     "metadata": {},
     "output_type": "execute_result"
    }
   ],
   "source": [
    "nano1.make"
   ]
  },
  {
   "cell_type": "code",
   "execution_count": 38,
   "metadata": {},
   "outputs": [
    {
     "data": {
      "text/plain": [
       "22"
      ]
     },
     "execution_count": 38,
     "metadata": {},
     "output_type": "execute_result"
    }
   ],
   "source": [
    "audiq7.milage"
   ]
  },
  {
   "cell_type": "code",
   "execution_count": 39,
   "metadata": {},
   "outputs": [],
   "source": [
    "nano1 = car(20,2021,253,\"bhuhuh\")\n",
    "audiq71 = car(10,2020,545,\"sdff\")\n",
    "nano2 = car(20,2021,253,\"bhuhuh\")\n",
    "audiq72 = car(10,2020,545,\"sdff\")\n",
    "nano3 = car(20,2021,253,\"bhuhuh\")\n",
    "audiq73 = car(10,2020,545,\"sdff\")\n",
    "nano4 = car(20,2021,253,\"bhuhuh\")\n",
    "audiq74 = car(10,2020,545,\"sdff\")"
   ]
  },
  {
   "cell_type": "code",
   "execution_count": 40,
   "metadata": {},
   "outputs": [],
   "source": [
    "class car:\n",
    "    def __init__(self,milage, year, make, model):    \n",
    "        self.milage = milage  \n",
    "        self.year = year        \n",
    "        self.make = make\n",
    "        self.model = model"
   ]
  },
  {
   "cell_type": "code",
   "execution_count": 41,
   "metadata": {},
   "outputs": [],
   "source": [
    "class car:\n",
    "    def __init__(a,milage, year, make, model):    \n",
    "        a.milage = milage  \n",
    "        a.year = year        \n",
    "        a.make = make\n",
    "        a.model = model"
   ]
  },
  {
   "cell_type": "code",
   "execution_count": 42,
   "metadata": {},
   "outputs": [],
   "source": [
    "nano1 = car(20,2021,253,\"bhuhuh\")\n",
    "audiq7 = car(10,2020,545,\"sdff\")"
   ]
  },
  {
   "cell_type": "code",
   "execution_count": 43,
   "metadata": {},
   "outputs": [
    {
     "data": {
      "text/plain": [
       "253"
      ]
     },
     "execution_count": 43,
     "metadata": {},
     "output_type": "execute_result"
    }
   ],
   "source": [
    "nano1.make\n"
   ]
  },
  {
   "cell_type": "code",
   "execution_count": 44,
   "metadata": {},
   "outputs": [
    {
     "data": {
      "text/plain": [
       "'sdff'"
      ]
     },
     "execution_count": 44,
     "metadata": {},
     "output_type": "execute_result"
    }
   ],
   "source": [
    "audiq7.model"
   ]
  },
  {
   "cell_type": "markdown",
   "metadata": {},
   "source": [
    "#### Self is act as a pointer to the class"
   ]
  },
  {
   "cell_type": "code",
   "execution_count": 49,
   "metadata": {},
   "outputs": [],
   "source": [
    "class car:\n",
    "    def __init__(a, mi, y, ma, mo):\n",
    "        a.milage = mi\n",
    "        a.year = y\n",
    "        a.make = ma\n",
    "        a.model = mo\n",
    "    def age(self, current_year):\n",
    "        return current_year-self.year"
   ]
  },
  {
   "cell_type": "code",
   "execution_count": 50,
   "metadata": {},
   "outputs": [],
   "source": [
    "nano1=car(15,2020,548,\"bygy\")"
   ]
  },
  {
   "cell_type": "code",
   "execution_count": 51,
   "metadata": {},
   "outputs": [
    {
     "data": {
      "text/plain": [
       "2"
      ]
     },
     "execution_count": 51,
     "metadata": {},
     "output_type": "execute_result"
    }
   ],
   "source": [
    "nano1.age(2022)"
   ]
  },
  {
   "cell_type": "code",
   "execution_count": 48,
   "metadata": {},
   "outputs": [
    {
     "data": {
      "text/plain": [
       "15"
      ]
     },
     "execution_count": 48,
     "metadata": {},
     "output_type": "execute_result"
    }
   ],
   "source": [
    "nano1.milage"
   ]
  },
  {
   "cell_type": "code",
   "execution_count": 42,
   "metadata": {},
   "outputs": [],
   "source": [
    "# Write a method which return an age of the car"
   ]
  },
  {
   "cell_type": "code",
   "execution_count": 60,
   "metadata": {},
   "outputs": [],
   "source": [
    "class car:\n",
    "    def __init__(a, mi, y, ma, mo):   # mi ->10,y-> 2021,ma->548,mo->\"bygy\"\n",
    "        a.milage = mi  # 10\n",
    "        a.year = y # 2021\n",
    "        a.make = ma  # 548\n",
    "        a.model = mo #\"bjh\"\n",
    "    \n",
    "    def age(self, current_year):\n",
    "        return current_year-self.year   # use local pointer to access class variables\n",
    "     \n",
    "    def make1(make2):\n",
    "        print(\"value of make\",make2.make)\n",
    "        "
   ]
  },
  {
   "cell_type": "code",
   "execution_count": 61,
   "metadata": {},
   "outputs": [],
   "source": [
    "nano1 = car(10,2021,548,\"bygy\")"
   ]
  },
  {
   "cell_type": "code",
   "execution_count": 62,
   "metadata": {},
   "outputs": [
    {
     "data": {
      "text/plain": [
       "10"
      ]
     },
     "execution_count": 62,
     "metadata": {},
     "output_type": "execute_result"
    }
   ],
   "source": [
    "nano1.milage"
   ]
  },
  {
   "cell_type": "code",
   "execution_count": 63,
   "metadata": {},
   "outputs": [
    {
     "name": "stdout",
     "output_type": "stream",
     "text": [
      "value of make 548\n"
     ]
    }
   ],
   "source": [
    "nano1.make1()"
   ]
  },
  {
   "cell_type": "code",
   "execution_count": 55,
   "metadata": {},
   "outputs": [
    {
     "data": {
      "text/plain": [
       "<bound method car.age of <__main__.car object at 0x000001B103609B20>>"
      ]
     },
     "execution_count": 55,
     "metadata": {},
     "output_type": "execute_result"
    }
   ],
   "source": [
    "nano1.age"
   ]
  },
  {
   "cell_type": "code",
   "execution_count": 64,
   "metadata": {},
   "outputs": [
    {
     "data": {
      "text/plain": [
       "1"
      ]
     },
     "execution_count": 64,
     "metadata": {},
     "output_type": "execute_result"
    }
   ],
   "source": [
    "nano1.age(2022)"
   ]
  },
  {
   "cell_type": "code",
   "execution_count": 65,
   "metadata": {},
   "outputs": [],
   "source": [
    "class car:\n",
    "    def __init__(a, mi, y, ma, mo):\n",
    "        a.milage = mi\n",
    "        a.year = y\n",
    "        a.make = ma\n",
    "        a.model = mo\n",
    "    \n",
    "    def age(b, current_year):\n",
    "        #print(\"age of the car\", current_year-self.year)\n",
    "        return current_year-b.year\n",
    "    \n",
    "    def milage1(self):\n",
    "        print(\"print milage of the car\", self.milage)\n",
    "        #return self.milage\n",
    "        "
   ]
  },
  {
   "cell_type": "code",
   "execution_count": 66,
   "metadata": {},
   "outputs": [],
   "source": [
    "nano1=car(20,2018,154,\"bhgyg\")"
   ]
  },
  {
   "cell_type": "code",
   "execution_count": 67,
   "metadata": {},
   "outputs": [
    {
     "data": {
      "text/plain": [
       "20"
      ]
     },
     "execution_count": 67,
     "metadata": {},
     "output_type": "execute_result"
    }
   ],
   "source": [
    "nano1.milage"
   ]
  },
  {
   "cell_type": "code",
   "execution_count": 68,
   "metadata": {},
   "outputs": [
    {
     "name": "stdout",
     "output_type": "stream",
     "text": [
      "print milage of the car 20\n"
     ]
    }
   ],
   "source": [
    "nano1.milage1()"
   ]
  },
  {
   "cell_type": "code",
   "execution_count": 69,
   "metadata": {},
   "outputs": [
    {
     "data": {
      "text/plain": [
       "4"
      ]
     },
     "execution_count": 69,
     "metadata": {},
     "output_type": "execute_result"
    }
   ],
   "source": [
    "nano1.age(2022)"
   ]
  },
  {
   "cell_type": "code",
   "execution_count": 70,
   "metadata": {},
   "outputs": [
    {
     "name": "stdout",
     "output_type": "stream",
     "text": [
      "print milage of the car 20\n"
     ]
    }
   ],
   "source": [
    "nano1.milage1()"
   ]
  },
  {
   "cell_type": "code",
   "execution_count": 71,
   "metadata": {},
   "outputs": [
    {
     "data": {
      "text/plain": [
       "<__main__.car at 0x1b1035dcee0>"
      ]
     },
     "execution_count": 71,
     "metadata": {},
     "output_type": "execute_result"
    }
   ],
   "source": [
    "nano1"
   ]
  },
  {
   "cell_type": "code",
   "execution_count": 73,
   "metadata": {},
   "outputs": [],
   "source": [
    "class car:\n",
    "    def __init__(a, mi, y, ma, mo):\n",
    "        a.milage = mi\n",
    "        a.year = y\n",
    "        a.make = ma\n",
    "        a.model = mo\n",
    "    \n",
    "    def age(b, current_year):\n",
    "        #print(\"age of the car\", current_year-self.year)\n",
    "        return current_year-b.year\n",
    "    \n",
    "    def milage1(self):\n",
    "        print(\"print milage of the car\", self.milage)\n",
    "        #return self.milage\n",
    "    \n",
    "    def __str__(c):\n",
    "        return \"this is my car class i have created\""
   ]
  },
  {
   "cell_type": "code",
   "execution_count": 74,
   "metadata": {},
   "outputs": [],
   "source": [
    "nano12 = car(20,2018,154,\"bhgyg\")"
   ]
  },
  {
   "cell_type": "code",
   "execution_count": 75,
   "metadata": {},
   "outputs": [
    {
     "name": "stdout",
     "output_type": "stream",
     "text": [
      "this is my car class i have created\n"
     ]
    }
   ],
   "source": [
    "print(nano12)"
   ]
  },
  {
   "cell_type": "code",
   "execution_count": 82,
   "metadata": {},
   "outputs": [],
   "source": [
    "class car:\n",
    "    def __init__(a, mi, y, ma, mo):\n",
    "        a.milage = mi\n",
    "        a.year = y\n",
    "        a.make = ma\n",
    "        a.model = mo\n",
    "    \n",
    "    def age(b, current_year):\n",
    "        #print(\"age of the car\", current_year-self.year)\n",
    "        return current_year-b.year\n",
    "    \n",
    "    def milage1(self):\n",
    "        print(\"print milage of the car\", self.milage)\n",
    "        #return self.milage\n",
    "    \n",
    "    def __str__(c):\n",
    "        return \"this is my car class i have created\""
   ]
  },
  {
   "cell_type": "code",
   "execution_count": 83,
   "metadata": {},
   "outputs": [
    {
     "name": "stdout",
     "output_type": "stream",
     "text": [
      "this is my car class i have created\n"
     ]
    }
   ],
   "source": [
    "nano12 = car(20,2018,154,\"bhgyg\")\n",
    "print(nano12)"
   ]
  },
  {
   "cell_type": "code",
   "execution_count": 84,
   "metadata": {},
   "outputs": [],
   "source": [
    "# create class student to store self, name, rollno, joining date, current_topic"
   ]
  },
  {
   "cell_type": "code",
   "execution_count": 97,
   "metadata": {},
   "outputs": [],
   "source": [
    "class student:\n",
    "    def __init__(self, n,r,j,c):\n",
    "        self.name = n\n",
    "        self.roll_no = r\n",
    "        self.joining_date =j\n",
    "        self.current_topic =c\n",
    "    def student1(self):\n",
    "        print(\"name of student\", self.name)\n",
    "        print(\"roll_no of student\", self.roll_no)\n",
    "        print(\"joining_date of student\", self.joining_date)\n",
    "        print(\"current_topic of student\", self.current_topic)\n",
    "    def __str__(self):\n",
    "        return \"created a class for storing student details\""
   ]
  },
  {
   "cell_type": "code",
   "execution_count": 98,
   "metadata": {},
   "outputs": [],
   "source": [
    "s = student(\"bjhjij\",12,\"1/1/2022\",\"OOPS\")"
   ]
  },
  {
   "cell_type": "code",
   "execution_count": 99,
   "metadata": {},
   "outputs": [
    {
     "name": "stdout",
     "output_type": "stream",
     "text": [
      "name of student bjhjij\n",
      "roll_no of student 12\n",
      "joining_date of student 1/1/2022\n",
      "current_topic of student OOPS\n"
     ]
    }
   ],
   "source": [
    "s.student1()"
   ]
  },
  {
   "cell_type": "code",
   "execution_count": 96,
   "metadata": {},
   "outputs": [
    {
     "name": "stdout",
     "output_type": "stream",
     "text": [
      "created a class for storing student details\n"
     ]
    }
   ],
   "source": [
    "print(s)"
   ]
  },
  {
   "cell_type": "code",
   "execution_count": null,
   "metadata": {},
   "outputs": [],
   "source": []
  },
  {
   "cell_type": "code",
   "execution_count": null,
   "metadata": {},
   "outputs": [],
   "source": []
  },
  {
   "cell_type": "code",
   "execution_count": 110,
   "metadata": {},
   "outputs": [],
   "source": [
    "class student:\n",
    "    def __init__(self, name, rollno, joining_date, current_topic):\n",
    "        self.name = name\n",
    "        self.rollno = rollno\n",
    "        self.joining_date = joining_date\n",
    "        self.current_topic = current_topic\n",
    "    def crt_topic(self):\n",
    "        print(\"current topic in my class is \", self.current_topic)\n",
    "        \n",
    "    def str_rollno(self):\n",
    "        \n",
    "        if type(self.rollno) == str:\n",
    "            print(\"do nothing\")\n",
    "        else:\n",
    "            return str(self.rollno)\n",
    "    def duration(self, current_date):\n",
    "        print(\"duration of a student in my class is \",current_date-self.joining_date)\n",
    "        \n",
    "    def __str__(self):\n",
    "        \n",
    "        return \"this is student class where they can try to input there own data and they can try to fetch it\"\n",
    "        "
   ]
  },
  {
   "cell_type": "code",
   "execution_count": 111,
   "metadata": {},
   "outputs": [],
   "source": [
    "srini = student(\"srini\", 3145,2021 , \"oops\" )"
   ]
  },
  {
   "cell_type": "code",
   "execution_count": 112,
   "metadata": {},
   "outputs": [
    {
     "name": "stdout",
     "output_type": "stream",
     "text": [
      "duration of a student in my class is  1\n"
     ]
    }
   ],
   "source": [
    "srini.duration(2022)"
   ]
  },
  {
   "cell_type": "code",
   "execution_count": 113,
   "metadata": {},
   "outputs": [
    {
     "data": {
      "text/plain": [
       "'3145'"
      ]
     },
     "execution_count": 113,
     "metadata": {},
     "output_type": "execute_result"
    }
   ],
   "source": [
    "srini.str_rollno()"
   ]
  },
  {
   "cell_type": "code",
   "execution_count": 114,
   "metadata": {},
   "outputs": [
    {
     "name": "stdout",
     "output_type": "stream",
     "text": [
      "this is student class where they can try to input there own data and they can try to fetch it\n"
     ]
    }
   ],
   "source": [
    "print(srini)"
   ]
  },
  {
   "cell_type": "code",
   "execution_count": 115,
   "metadata": {},
   "outputs": [],
   "source": [
    "student_xyz = student(\"xyz\", \"nbvgg\",21, 254)"
   ]
  },
  {
   "cell_type": "code",
   "execution_count": 116,
   "metadata": {},
   "outputs": [
    {
     "name": "stdout",
     "output_type": "stream",
     "text": [
      "this is student class where they can try to input there own data and they can try to fetch it\n"
     ]
    }
   ],
   "source": [
    "print(student_xyz)"
   ]
  },
  {
   "cell_type": "code",
   "execution_count": 119,
   "metadata": {},
   "outputs": [],
   "source": [
    "class student:\n",
    "    def __init__(self, name, rollno, joining_date, current_topic):\n",
    "        self.name = name\n",
    "        self.rollno = rollno\n",
    "        self.joining_date = joining_date\n",
    "        self.current_topic = current_topic\n",
    "        \n",
    "    def name_parsing(self):\n",
    "        if type(self.name) == list:\n",
    "            for i in self.name:\n",
    "                print(\"name of the student\", i)\n",
    "        else:\n",
    "            print(\"Provided name is not in a form of list\")\n",
    "            \n",
    "    def crt_topic(self):\n",
    "        print(\"current topic in my class is \", self.current_topic)\n",
    "        \n",
    "    \n",
    "    def str_rollno(self):\n",
    "        \n",
    "        if type(self.rollno) == str:\n",
    "            print(\"do nothing\")\n",
    "        else:\n",
    "            return str(self.rollno)\n",
    "        \n",
    "        \n",
    "    def duration(self, current_date):\n",
    "        print(\"duration of a student in my class is \",current_date-self.joining_date)\n",
    "        \n",
    "    def __str__(self):\n",
    "        \n",
    "        return \"this is student class where they can try to input there own data and the can try to fetch it\"\n",
    "        "
   ]
  },
  {
   "cell_type": "code",
   "execution_count": 120,
   "metadata": {},
   "outputs": [],
   "source": [
    "student_xyz=student([\"Shraddha\", \"Abhijit\", \"Narayan\", \"Rithik\", \"Nikhil\",\"Rohan\",\"Jayesh\"], [1,2,3,4,5,6,7],2022,\"Oops\")"
   ]
  },
  {
   "cell_type": "code",
   "execution_count": 121,
   "metadata": {},
   "outputs": [
    {
     "name": "stdout",
     "output_type": "stream",
     "text": [
      "name of the student Shraddha\n",
      "name of the student Abhijit\n",
      "name of the student Narayan\n",
      "name of the student Rithik\n",
      "name of the student Nikhil\n",
      "name of the student Rohan\n",
      "name of the student Jayesh\n"
     ]
    }
   ],
   "source": [
    "student_xyz.name_parsing()"
   ]
  },
  {
   "cell_type": "code",
   "execution_count": 174,
   "metadata": {},
   "outputs": [],
   "source": [
    "class student:\n",
    "    def __init__(self, name, rollno, joining_date, current_topic):\n",
    "        self.name = name\n",
    "        self.rollno = rollno\n",
    "        self.joining_date = joining_date\n",
    "        self.current_topic = current_topic\n",
    "        \n",
    "    def name_parsing(self):\n",
    "         \n",
    "        if type(self.name) == list:\n",
    "            for i in self.name:\n",
    "                print(\"name of the student\", i)\n",
    "        else:\n",
    "            print(\"Provided name is not in a form of list\")\n",
    "            \n",
    "    def crt_topic(self):\n",
    "        print(\"current topic in my class is \", self.current_topic)\n",
    "        \n",
    "    \n",
    "    def str_rollno(self):\n",
    "        try:\n",
    "            if type(self.rollno) == str:\n",
    "                print(\"do nothing\")\n",
    "            else:\n",
    "                return str(self.rollno)\n",
    "        except Exception as e:\n",
    "            print(\"this is my error msg\", e)\n",
    "        \n",
    "    def duration(self, current_date):\n",
    "        print(\"duration of a student in my class is \",current_date-self.joining_date)\n",
    "        \n",
    "    def __str__(self):\n",
    "        \n",
    "        return \"this is student class where they can try to input there own data and the can try to fetch it\"\n",
    "        "
   ]
  },
  {
   "cell_type": "code",
   "execution_count": 175,
   "metadata": {},
   "outputs": [],
   "source": [
    "srini = student(\"srini\", \"####\", 2021, \"oops\")"
   ]
  },
  {
   "cell_type": "code",
   "execution_count": 176,
   "metadata": {},
   "outputs": [
    {
     "name": "stdout",
     "output_type": "stream",
     "text": [
      "this is student class where they can try to input there own data and the can try to fetch it\n"
     ]
    }
   ],
   "source": [
    "print(srini)"
   ]
  },
  {
   "cell_type": "markdown",
   "metadata": {},
   "source": [
    "- Level 1 task\n",
    "- create a class data\n",
    "    - Provide a file name\n",
    "    - Provide a file type\n",
    "    - date of a file\n",
    "    - size of a file\n",
    "    \n",
    "- create a function like file open():\n",
    "    - create a file if not exist\n",
    "    - write something in a file\n",
    "    \n",
    "- create a function to read that file\n",
    "\n",
    "- create a function to append new data into the file"
   ]
  },
  {
   "cell_type": "markdown",
   "metadata": {},
   "source": [
    "- Task level2\n",
    "- Exception handling\n",
    "- logger"
   ]
  },
  {
   "cell_type": "code",
   "execution_count": 67,
   "metadata": {},
   "outputs": [
    {
     "name": "stdout",
     "output_type": "stream",
     "text": [
      "Data after Write\n",
      "Data after append \n",
      " \n"
     ]
    }
   ],
   "source": [
    "class data:\n",
    "    def __init__(self, fname, ftype, date, size):\n",
    "        self.fname = fname\n",
    "        self.ftype = ftype\n",
    "        self.date = date\n",
    "        self.size = size\n",
    "        \n",
    "    def fopen(self):\n",
    "        with open(self.fname,\"w\") as fw:\n",
    "            fw.write(\"this data passed from open function\")\n",
    "        print('Data after Write')\n",
    "    def fread(self):\n",
    "        with open(self.fname,\"a+\") as fr:\n",
    "            fr.seek(0)\n",
    "            return fr.read()\n",
    "    def fappend(self):\n",
    "        with open(self.fname,\"a+\") as fa:\n",
    "            fa.write(\"\\n this is new data passed from append function\")\n",
    "            data=fa.read()\n",
    "        print('Data after append \\n', data)\n",
    "    \n",
    "    def __str__(self):\n",
    "        return \"Class to read/write/append: the file\"\n",
    "    \n",
    "file_object = data('test_new.txt', \".txt\", \"4/2/22\", 10)\n",
    "file_object.fopen()\n",
    "file_object.fread()\n",
    "file_object.fappend()"
   ]
  },
  {
   "cell_type": "code",
   "execution_count": null,
   "metadata": {},
   "outputs": [],
   "source": []
  },
  {
   "cell_type": "code",
   "execution_count": 65,
   "metadata": {},
   "outputs": [
    {
     "name": "stdout",
     "output_type": "stream",
     "text": [
      "Data after append: \n",
      " <class '__main__.data'>\n"
     ]
    }
   ],
   "source": [
    "class data:\n",
    "    def __init__(self, fname, ftype, date, size):\n",
    "        self.fname = fname\n",
    "        self.ftype = ftype\n",
    "        self.date = date\n",
    "        self.size = size\n",
    "        \n",
    "    def fopen(self):\n",
    "        with open(self.fname+self.ftype,\"w\") as fw:\n",
    "            fw.write(\"Hello this is abc file\")\n",
    "            #fw.close()\n",
    "        \n",
    "    def fread(self):\n",
    "        with open(self.fname+self.ftype,\"r\") as fr:\n",
    "            fr.seek(0)\n",
    "            return fr.read()\n",
    "            fr.close()\n",
    "    def fappend(self):\n",
    "        with open(self.fname+self.ftype,\"a+\") as fa:\n",
    "            fa.write(\"\\n this is second line\")\n",
    "            fa.close()\n",
    "        print('Data after append: \\n', data)\n",
    "    \n",
    "    def __str__(self):\n",
    "        return \"Class to read/write/append: the file\"\n",
    "    \n",
    "file_object = data('test', \".txt\", \"4/2/22\", 10)\n",
    "file_object.fopen()\n",
    "file_object.fread()\n",
    "file_object.fappend()"
   ]
  },
  {
   "cell_type": "code",
   "execution_count": null,
   "metadata": {},
   "outputs": [],
   "source": [
    "class data:\n",
    "    def __init__(self, filename, filetype, date, size):\n",
    "        self.filename = filename\n",
    "        self.filetype = filetype\n",
    "        self.date    = date\n",
    "        self.size    =size\n",
    "        \n",
    "    def fileopen(self):\n",
    "        f = open(self.filename, 'r')\n",
    "        print(f.read())\n",
    "        f.close()\n",
    "        \n",
    "    def fileappend(self):\n",
    "        f = open(self.filename,\"a\")\n",
    "        f.write(\"Appending data to file\")\n",
    "        f.close()\n",
    "        \n",
    "\n",
    "        "
   ]
  },
  {
   "cell_type": "code",
   "execution_count": null,
   "metadata": {},
   "outputs": [],
   "source": []
  },
  {
   "cell_type": "code",
   "execution_count": null,
   "metadata": {},
   "outputs": [],
   "source": []
  },
  {
   "cell_type": "code",
   "execution_count": null,
   "metadata": {},
   "outputs": [],
   "source": []
  }
 ],
 "metadata": {
  "kernelspec": {
   "display_name": "Python 3.7.4 64-bit ('base': conda)",
   "language": "python",
   "name": "python37464bitbaseconda70860b83e88146a687b74a7f5851456a"
  },
  "language_info": {
   "codemirror_mode": {
    "name": "ipython",
    "version": 3
   },
   "file_extension": ".py",
   "mimetype": "text/x-python",
   "name": "python",
   "nbconvert_exporter": "python",
   "pygments_lexer": "ipython3",
   "version": "3.8.3"
  }
 },
 "nbformat": 4,
 "nbformat_minor": 4
}
